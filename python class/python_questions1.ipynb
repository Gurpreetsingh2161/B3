{
 "cells": [
  {
   "cell_type": "code",
   "execution_count": 48,
   "id": "ceb5e409-2c4d-46cf-8c7b-90c6d07819ca",
   "metadata": {},
   "outputs": [
    {
     "name": "stdin",
     "output_type": "stream",
     "text": [
      "Enter the number of elements you want in your list: 3\n"
     ]
    },
    {
     "name": "stdout",
     "output_type": "stream",
     "text": [
      "Number of elements in your list: 3\n"
     ]
    },
    {
     "name": "stdin",
     "output_type": "stream",
     "text": [
      "Enter your elements one by one: 6\n",
      "Enter your elements one by one: 4\n",
      "Enter your elements one by one: 2\n"
     ]
    },
    {
     "name": "stdout",
     "output_type": "stream",
     "text": [
      "[6, 4, 2]\n",
      "Average of the given list: 4\n",
      "Minimum value in the given list is: 2\n",
      "Maximum value in the given list is: 6\n"
     ]
    }
   ],
   "source": [
    "n=int(input(\"Enter the number of elements you want in your list:\")) #taking input of number of elements from user\n",
    "print(\"Number of elements in your list:\",n)\n",
    "list1=[]\n",
    "def create_list(): #function for creating a list\n",
    "    i=0\n",
    "    for i in range(i,n):\n",
    "        elements=int(input(\"Enter your elements one by one:\"))\n",
    "        list1.append(elements)\n",
    "create_list() #calling the function\n",
    "print(list1)\n",
    "def list_computing(list1): #function for computing the list\n",
    "    avg=0\n",
    "    for i in list1: #loop for calculating average of list\n",
    "        avg+=i\n",
    "    avg=avg//n\n",
    "    print(\"Average of the given list:\",avg)\n",
    "    minn=list1[0]\n",
    "    for i in list1: #loop for calculating minimum element in list\n",
    "        if i<minn:\n",
    "            minn=i\n",
    "    print(\"Minimum value in the given list is:\",minn)\n",
    "    maxx=list1[0]\n",
    "    for i in list1: #loop for calculating maximum element in list\n",
    "        if i>maxx:\n",
    "            maxx=i\n",
    "    print(\"Maximum value in the given list is:\",maxx)\n",
    "list_computing(list1) #calling the computing function"
   ]
  },
  {
   "cell_type": "code",
   "execution_count": null,
   "id": "e266576c-97ea-412d-b513-eb6870fc5769",
   "metadata": {},
   "outputs": [],
   "source": []
  }
 ],
 "metadata": {
  "kernelspec": {
   "display_name": "Python 3 (ipykernel)",
   "language": "python",
   "name": "python3"
  },
  "language_info": {
   "codemirror_mode": {
    "name": "ipython",
    "version": 3
   },
   "file_extension": ".py",
   "mimetype": "text/x-python",
   "name": "python",
   "nbconvert_exporter": "python",
   "pygments_lexer": "ipython3",
   "version": "3.12.4"
  }
 },
 "nbformat": 4,
 "nbformat_minor": 5
}
