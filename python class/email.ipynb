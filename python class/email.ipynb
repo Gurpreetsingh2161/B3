{
 "cells": [
  {
   "cell_type": "code",
   "execution_count": 16,
   "id": "cd9d03bb-c074-484e-9074-6627b75cf480",
   "metadata": {},
   "outputs": [
    {
     "data": {
      "text/plain": [
       "['123@stu.upes.ac.in',\n",
       " '234324@stu.upes.ac.in',\n",
       " '345345@stu.upes.ac.in',\n",
       " '4545@stu.upes.ac.in']"
      ]
     },
     "execution_count": 16,
     "metadata": {},
     "output_type": "execute_result"
    }
   ],
   "source": [
    "#write a function that generates list of email address using list of sapids\n",
    "#generate email address using sapid\n",
    "#sapid\n",
    "#590014571\n",
    "# email\n",
    "#123456789@stu.upes.ac.in\n",
    "#using\n",
    "#1 functions/for loop\n",
    "#2 map/filter and lambda\n",
    "#3 list comprehesion\n",
    "sapid=[123,234324,345345,4545]\n",
    "\n",
    "def id2email(id):\n",
    "    return str(id)+\"@stu.upes.ac.in\"\n",
    "\n",
    "def sapids_to_emails(sapid):\n",
    "    emails=[]\n",
    "    for id in sapid:\n",
    "        email=id2email(id)\n",
    "        emails.append(email)\n",
    "\n",
    "    return emails\n",
    "\n",
    "list_of_emails=sapids_to_emails(sapid)#\n",
    "list_of_emails"
   ]
  },
  {
   "cell_type": "code",
   "execution_count": 17,
   "id": "117178f5-0b82-4c61-a508-d068be080363",
   "metadata": {},
   "outputs": [
    {
     "data": {
      "text/plain": [
       "['123@stu.upes.ac.in',\n",
       " '234324@stu.upes.ac.in',\n",
       " '345345@stu.upes.ac.in',\n",
       " '4545@stu.upes.ac.in']"
      ]
     },
     "execution_count": 17,
     "metadata": {},
     "output_type": "execute_result"
    }
   ],
   "source": [
    "#list_of_emauls=map(id2email,sapid) #for python2\n",
    "list_of_emauls=list(map(id2email,sapid)) #for python3\n",
    "list_of_emails"
   ]
  },
  {
   "cell_type": "code",
   "execution_count": 18,
   "id": "2e25d45e-2e86-4b73-aec0-cb12c26a5c23",
   "metadata": {},
   "outputs": [
    {
     "data": {
      "text/plain": [
       "['123@stu.upes.ac.in',\n",
       " '234324@stu.upes.ac.in',\n",
       " '345345@stu.upes.ac.in',\n",
       " '4545@stu.upes.ac.in']"
      ]
     },
     "execution_count": 18,
     "metadata": {},
     "output_type": "execute_result"
    }
   ],
   "source": [
    "list_of_emauls=list(map(lambda id: str(id)+\"@stu.upes.ac.in\",sapid))\n",
    "list_of_emails"
   ]
  },
  {
   "cell_type": "code",
   "execution_count": 20,
   "id": "8268bef5-7348-4971-a99f-6b66c3e090ae",
   "metadata": {},
   "outputs": [
    {
     "data": {
      "text/plain": [
       "['[id]@stu.upes.ac.in',\n",
       " '[id]@stu.upes.ac.in',\n",
       " '[id]@stu.upes.ac.in',\n",
       " '[id]@stu.upes.ac.in']"
      ]
     },
     "execution_count": 20,
     "metadata": {},
     "output_type": "execute_result"
    }
   ],
   "source": [
    "sapid=[123,234324,345345,4545]\n",
    "list_of_emails=[f\"[id]@stu.upes.ac.in\" for id in sapid]\n",
    "list_of_emails"
   ]
  },
  {
   "cell_type": "code",
   "execution_count": null,
   "id": "4977b791-ea96-4224-9f7e-830cc1771a68",
   "metadata": {},
   "outputs": [],
   "source": []
  }
 ],
 "metadata": {
  "kernelspec": {
   "display_name": "Python 3 (ipykernel)",
   "language": "python",
   "name": "python3"
  },
  "language_info": {
   "codemirror_mode": {
    "name": "ipython",
    "version": 3
   },
   "file_extension": ".py",
   "mimetype": "text/x-python",
   "name": "python",
   "nbconvert_exporter": "python",
   "pygments_lexer": "ipython3",
   "version": "3.12.4"
  }
 },
 "nbformat": 4,
 "nbformat_minor": 5
}
