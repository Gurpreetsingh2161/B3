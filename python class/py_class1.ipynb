{
 "cells": [
  {
   "cell_type": "code",
   "execution_count": 1,
   "id": "9cf51b26-5838-4998-82bd-c13ac5e6a7f0",
   "metadata": {},
   "outputs": [],
   "source": [
    "a=1 #immutable variable=where variable cannot be changed during overwrite(variable whos value does not change as well as memory location is  immutable)"
   ]
  },
  {
   "cell_type": "code",
   "execution_count": 9,
   "id": "dd381fa7-2c6f-47ce-a388-fb65c921da5c",
   "metadata": {},
   "outputs": [],
   "source": [
    "a=2.2"
   ]
  },
  {
   "cell_type": "code",
   "execution_count": 10,
   "id": "b1d9a80e-0d8e-4916-a052-b939724fff38",
   "metadata": {},
   "outputs": [
    {
     "name": "stdout",
     "output_type": "stream",
     "text": [
      "2.2\n",
      "2597467941840\n",
      "<class 'float'>\n"
     ]
    }
   ],
   "source": [
    "print(a)\n",
    "print(id(a))\n",
    "print(type(a))"
   ]
  },
  {
   "cell_type": "code",
   "execution_count": 11,
   "id": "cfe80621-729f-4ce2-a9c4-ff381c84b98f",
   "metadata": {},
   "outputs": [],
   "source": [
    "a=10\n",
    "b=10"
   ]
  },
  {
   "cell_type": "code",
   "execution_count": 13,
   "id": "e77bf182-ef82-4c06-bfb9-35ecc15115f9",
   "metadata": {},
   "outputs": [
    {
     "name": "stdout",
     "output_type": "stream",
     "text": [
      "10\n",
      "140709834275544\n",
      "<class 'int'>\n",
      "10\n",
      "140709834275544\n",
      "<class 'int'>\n"
     ]
    }
   ],
   "source": [
    "print(a)\n",
    "print(id(a))\n",
    "print(type(a))\n",
    "\n",
    "print(b)\n",
    "print(id(b))\n",
    "print(type(b))\n",
    "\n"
   ]
  },
  {
   "cell_type": "code",
   "execution_count": 14,
   "id": "3c593bb4-b9e9-47c4-a477-462559fab403",
   "metadata": {},
   "outputs": [],
   "source": [
    "list1=[1,2,3]"
   ]
  },
  {
   "cell_type": "code",
   "execution_count": 15,
   "id": "0fb1a056-de91-4426-9d07-725f86ae7bdf",
   "metadata": {},
   "outputs": [
    {
     "name": "stdout",
     "output_type": "stream",
     "text": [
      "[1, 2, 3]\n"
     ]
    }
   ],
   "source": [
    "print(list1)"
   ]
  },
  {
   "cell_type": "code",
   "execution_count": 17,
   "id": "4cc1ef4a-ff52-4613-b848-4833e5c76927",
   "metadata": {},
   "outputs": [
    {
     "name": "stdout",
     "output_type": "stream",
     "text": [
      "<class 'list'>\n",
      "2597475150016\n"
     ]
    }
   ],
   "source": [
    "print(type(list1))\n",
    "print(id(list1))"
   ]
  },
  {
   "cell_type": "code",
   "execution_count": 18,
   "id": "6e13acd4-7b29-4d21-8eab-45acb8d6b927",
   "metadata": {},
   "outputs": [
    {
     "name": "stdout",
     "output_type": "stream",
     "text": [
      "[1, 2, 3, 6]\n",
      "<class 'list'>\n",
      "2597475150016\n"
     ]
    }
   ],
   "source": [
    "list1.append(6)\n",
    "print(list1) #mutable cause no change in memory location\n",
    "print(type(list1))\n",
    "print(id(list1))"
   ]
  },
  {
   "cell_type": "code",
   "execution_count": 23,
   "id": "94fa98aa-3948-49af-881a-a7b95dca2b0d",
   "metadata": {},
   "outputs": [
    {
     "name": "stdout",
     "output_type": "stream",
     "text": [
      "b is larger than a\n"
     ]
    }
   ],
   "source": [
    "a=1\n",
    "b=2\n",
    "#print larger number of a and b\n",
    "if a>b:\n",
    "    print(\"a is larger than b.\")\n",
    "    # this condition fails\n",
    "else:\n",
    "    print(\"b is larger than a\")"
   ]
  },
  {
   "cell_type": "code",
   "execution_count": 20,
   "id": "ddd3791a-c5fa-477c-80ea-29bd28052dfa",
   "metadata": {},
   "outputs": [
    {
     "data": {
      "text/plain": [
       "False"
      ]
     },
     "execution_count": 20,
     "metadata": {},
     "output_type": "execute_result"
    }
   ],
   "source": [
    "a>b"
   ]
  },
  {
   "cell_type": "code",
   "execution_count": 27,
   "id": "3dd8cceb-d24e-46bd-96b5-a10370537fea",
   "metadata": {},
   "outputs": [
    {
     "data": {
      "text/plain": [
       "'\\n   multiline comment\\n'"
      ]
     },
     "execution_count": 27,
     "metadata": {},
     "output_type": "execute_result"
    }
   ],
   "source": [
    "\"\"\"\n",
    "   multiline comment\n",
    "\"\"\"\n",
    "#commment"
   ]
  },
  {
   "cell_type": "code",
   "execution_count": 41,
   "id": "d4f13a4a-adca-48eb-8101-48eeea051410",
   "metadata": {},
   "outputs": [
    {
     "name": "stdout",
     "output_type": "stream",
     "text": [
      "This is a \"test\" string\n",
      "2597484045264\n",
      "this is a second string\n",
      "this is a \\\"second\\\" string\n"
     ]
    }
   ],
   "source": [
    "#strings\n",
    "str1=\"This is a \\\"test\\\" string\" #immutable cause it cannot be changed value does not change\n",
    "str2='this is a second string'\n",
    "str3=r'this is a \\\"second\\\" string' #r will print scape characters as well\n",
    "print(str1)\n",
    "print(id(str1))\n",
    "print(str2)\n",
    "print(str3)"
   ]
  },
  {
   "cell_type": "code",
   "execution_count": 39,
   "id": "3ff95ad6-f56b-43a0-ab2d-62816fb3b459",
   "metadata": {},
   "outputs": [
    {
     "data": {
      "text/plain": [
       "'this is a \"test\" string'"
      ]
     },
     "execution_count": 39,
     "metadata": {},
     "output_type": "execute_result"
    }
   ],
   "source": [
    "str1.lower()"
   ]
  },
  {
   "cell_type": "code",
   "execution_count": 44,
   "id": "8fcbed78-5231-485f-bc27-45032bb0a97e",
   "metadata": {},
   "outputs": [
    {
     "name": "stdout",
     "output_type": "stream",
     "text": [
      "2597484045264\n"
     ]
    }
   ],
   "source": [
    "str1.upper()\n",
    "print(id(str1))"
   ]
  },
  {
   "cell_type": "code",
   "execution_count": 42,
   "id": "aeccdf24-ba90-4693-99f0-0e60fdbb8d6d",
   "metadata": {},
   "outputs": [
    {
     "name": "stdout",
     "output_type": "stream",
     "text": [
      "2597484045264\n"
     ]
    }
   ],
   "source": [
    "str1.replace(\"is\",\"2\")\n",
    "print(id(str1))"
   ]
  },
  {
   "cell_type": "code",
   "execution_count": 45,
   "id": "e07082af-c5bd-4519-b826-2d71efafced4",
   "metadata": {},
   "outputs": [
    {
     "name": "stdout",
     "output_type": "stream",
     "text": [
      "2597483874544\n"
     ]
    }
   ],
   "source": [
    "str1=str1.upper() #overwritten variable\n",
    "print(id(str1))"
   ]
  },
  {
   "cell_type": "code",
   "execution_count": 47,
   "id": "6d03fcec-18ff-4973-9ff6-4b1fab9deee5",
   "metadata": {},
   "outputs": [
    {
     "name": "stdout",
     "output_type": "stream",
     "text": [
      "hello python\n"
     ]
    }
   ],
   "source": [
    "#concatination\n",
    "str1=\"hello\"\n",
    "str2=\"python\"\n",
    "print(str1+\" \"+str2)"
   ]
  },
  {
   "cell_type": "code",
   "execution_count": 48,
   "id": "2c4a0ffd-4d38-4462-a71a-f4739f037a52",
   "metadata": {},
   "outputs": [
    {
     "data": {
      "text/plain": [
       "'hellohellohellohello'"
      ]
     },
     "execution_count": 48,
     "metadata": {},
     "output_type": "execute_result"
    }
   ],
   "source": [
    "str1*4"
   ]
  },
  {
   "cell_type": "code",
   "execution_count": 50,
   "id": "bc8d7a6e-9488-43ba-9b93-51d5813c5a19",
   "metadata": {},
   "outputs": [
    {
     "name": "stdout",
     "output_type": "stream",
     "text": [
      "True\n",
      "False\n"
     ]
    }
   ],
   "source": [
    "#check if something exists in string or not\n",
    "print(\"h\" in str1)\n",
    "print(\"a\" in str1)"
   ]
  },
  {
   "cell_type": "code",
   "execution_count": 52,
   "id": "7ff14dc1-503c-4879-a2ab-f08c4f725830",
   "metadata": {},
   "outputs": [
    {
     "data": {
      "text/plain": [
       "'hello'"
      ]
     },
     "execution_count": 52,
     "metadata": {},
     "output_type": "execute_result"
    }
   ],
   "source": [
    "#slicing\n",
    "str1[0]\n",
    "str1[0:5]  #5=5-1 in indexing"
   ]
  },
  {
   "cell_type": "code",
   "execution_count": 53,
   "id": "2f0aab3e-3fd8-411a-bc46-ea6be9b35332",
   "metadata": {},
   "outputs": [],
   "source": [
    "numberstr=\"0123456789\""
   ]
  },
  {
   "cell_type": "code",
   "execution_count": 55,
   "id": "6a0fc339-3749-40a8-9f8a-b6a2e8646ae5",
   "metadata": {},
   "outputs": [
    {
     "data": {
      "text/plain": [
       "'012345678'"
      ]
     },
     "execution_count": 55,
     "metadata": {},
     "output_type": "execute_result"
    }
   ],
   "source": [
    "numberstr[0]\n",
    "numberstr[0:9]"
   ]
  },
  {
   "cell_type": "code",
   "execution_count": 56,
   "id": "7bc473af-3e33-4ce2-9c0e-eb910606bda7",
   "metadata": {},
   "outputs": [
    {
     "data": {
      "text/plain": [
       "10"
      ]
     },
     "execution_count": 56,
     "metadata": {},
     "output_type": "execute_result"
    }
   ],
   "source": [
    "#check length \n",
    "len(numberstr)"
   ]
  },
  {
   "cell_type": "code",
   "execution_count": 57,
   "id": "661f6fe8-50e6-483d-8df5-cb9aae962951",
   "metadata": {},
   "outputs": [
    {
     "data": {
      "text/plain": [
       "'9'"
      ]
     },
     "execution_count": 57,
     "metadata": {},
     "output_type": "execute_result"
    }
   ],
   "source": [
    "numberstr[-1]"
   ]
  },
  {
   "cell_type": "code",
   "execution_count": 63,
   "id": "1d99d168-5abd-435d-9aba-ce52ecd63bfa",
   "metadata": {},
   "outputs": [
    {
     "name": "stdout",
     "output_type": "stream",
     "text": [
      "My name is protectedand i like python\n",
      "My name is %s and i like %d ('protected', 'python')\n"
     ]
    }
   ],
   "source": [
    "name=\"protected\"\n",
    "fav=\"python\"\n",
    "# my name is protected and i like python\n",
    "print(\"My name is \"+name+\"and i like \"+fav)\n",
    "print(\"My name is %s and i like %d\",(name,fav))"
   ]
  },
  {
   "cell_type": "code",
   "execution_count": 64,
   "id": "33972619-6adb-4f98-9a5a-68121926f729",
   "metadata": {},
   "outputs": [
    {
     "data": {
      "text/plain": [
       "'my name is protected and i like python'"
      ]
     },
     "execution_count": 64,
     "metadata": {},
     "output_type": "execute_result"
    }
   ],
   "source": [
    "#[lace holders\n",
    "strPlaceHolders=\"my name is {} and i like {}\"\n",
    "strPlaceHolders.format(name,fav)"
   ]
  },
  {
   "cell_type": "code",
   "execution_count": 68,
   "id": "b78b94d7-5874-4bde-9847-b9a9e473e2b6",
   "metadata": {},
   "outputs": [
    {
     "name": "stdout",
     "output_type": "stream",
     "text": [
      "My name is protected and i like python\n"
     ]
    }
   ],
   "source": [
    "#f string\n",
    "f_str=f\"My name is {name} and i like {fav}\"\n",
    "print(f_str)"
   ]
  },
  {
   "cell_type": "code",
   "execution_count": 71,
   "id": "c7264d9e-13dd-4db6-b10e-0840c6f9f4ad",
   "metadata": {},
   "outputs": [
    {
     "data": {
      "text/plain": [
       "1000"
      ]
     },
     "execution_count": 71,
     "metadata": {},
     "output_type": "execute_result"
    }
   ],
   "source": [
    "#multiflication\n",
    "100*10"
   ]
  },
  {
   "cell_type": "code",
   "execution_count": 72,
   "id": "4011905e-7a6f-4137-8435-cf6120cb3829",
   "metadata": {},
   "outputs": [
    {
     "data": {
      "text/plain": [
       "10.0"
      ]
     },
     "execution_count": 72,
     "metadata": {},
     "output_type": "execute_result"
    }
   ],
   "source": [
    "#sigele / division will always be floating point\n",
    "100/10"
   ]
  },
  {
   "cell_type": "code",
   "execution_count": 73,
   "id": "eb26488f-c079-42d3-95ed-272f828d2067",
   "metadata": {},
   "outputs": [
    {
     "data": {
      "text/plain": [
       "10"
      ]
     },
     "execution_count": 73,
     "metadata": {},
     "output_type": "execute_result"
    }
   ],
   "source": [
    "#double // division will always be integer\n",
    "100//10"
   ]
  },
  {
   "cell_type": "code",
   "execution_count": 76,
   "id": "72dafd44-7231-47e8-8d21-3ae57ae8565b",
   "metadata": {},
   "outputs": [
    {
     "data": {
      "text/plain": [
       "1000"
      ]
     },
     "execution_count": 76,
     "metadata": {},
     "output_type": "execute_result"
    }
   ],
   "source": [
    "#power\n",
    "10**3\n",
    "#as well as\n",
    "pow(10,3)"
   ]
  },
  {
   "cell_type": "code",
   "execution_count": 77,
   "id": "a7a245f6-db20-40c7-bc6c-66f32834ff39",
   "metadata": {},
   "outputs": [],
   "source": [
    "a=[10,2,-5,30,100] #list"
   ]
  },
  {
   "cell_type": "code",
   "execution_count": 78,
   "id": "3ed928d2-07f7-4a24-94a4-f5fe8853ea6c",
   "metadata": {},
   "outputs": [
    {
     "data": {
      "text/plain": [
       "-5"
      ]
     },
     "execution_count": 78,
     "metadata": {},
     "output_type": "execute_result"
    }
   ],
   "source": [
    "min(a)"
   ]
  },
  {
   "cell_type": "code",
   "execution_count": 79,
   "id": "0d019f7a-014e-4707-833c-c422c8f98e84",
   "metadata": {},
   "outputs": [
    {
     "data": {
      "text/plain": [
       "100"
      ]
     },
     "execution_count": 79,
     "metadata": {},
     "output_type": "execute_result"
    }
   ],
   "source": [
    "max(a)"
   ]
  },
  {
   "cell_type": "code",
   "execution_count": 80,
   "id": "a3919330-5eed-40b8-96ea-f0070cdc551c",
   "metadata": {},
   "outputs": [
    {
     "data": {
      "text/plain": [
       "137"
      ]
     },
     "execution_count": 80,
     "metadata": {},
     "output_type": "execute_result"
    }
   ],
   "source": [
    "sum(a)"
   ]
  },
  {
   "cell_type": "code",
   "execution_count": 81,
   "id": "3f8c200e-631d-48b3-95ca-86ee54428f19",
   "metadata": {},
   "outputs": [],
   "source": [
    "a=(10,2,-5,30,100) #tuple"
   ]
  },
  {
   "cell_type": "code",
   "execution_count": 86,
   "id": "085e0d5a-38e5-4380-95a2-a19e2dc1fc15",
   "metadata": {},
   "outputs": [
    {
     "name": "stdin",
     "output_type": "stream",
     "text": [
      "Enter your name: batman\n"
     ]
    },
    {
     "name": "stdout",
     "output_type": "stream",
     "text": [
      "Hi batman\n"
     ]
    }
   ],
   "source": [
    "#value from user\n",
    "val=input(\"Enter your name:\")\n",
    "print(f\"Hi {val}\")"
   ]
  },
  {
   "cell_type": "code",
   "execution_count": 90,
   "id": "f292e653-77e4-4275-be98-89bc34a304c4",
   "metadata": {},
   "outputs": [
    {
     "data": {
      "text/plain": [
       "3"
      ]
     },
     "execution_count": 90,
     "metadata": {},
     "output_type": "execute_result"
    }
   ],
   "source": [
    "a=1\n",
    "b=2.2\n",
    "c=int(a+b) #conversion\n",
    "c"
   ]
  },
  {
   "cell_type": "code",
   "execution_count": 95,
   "id": "6190effa-df44-4b87-8e23-d4567a0a878a",
   "metadata": {},
   "outputs": [
    {
     "data": {
      "text/plain": [
       "'-0.6000000000000001'"
      ]
     },
     "execution_count": 95,
     "metadata": {},
     "output_type": "execute_result"
    }
   ],
   "source": [
    "a=1\n",
    "b=1.6\n",
    "c=str(a-b)\n",
    "c"
   ]
  },
  {
   "cell_type": "code",
   "execution_count": 96,
   "id": "33cbfa60-d7fc-46bd-9020-dbbc3e5d1c08",
   "metadata": {},
   "outputs": [
    {
     "name": "stdout",
     "output_type": "stream",
     "text": [
      "a<b and c<d\n"
     ]
    }
   ],
   "source": [
    "a=1\n",
    "b=2\n",
    "c=3\n",
    "d=4\n",
    "\n",
    "if a<b:\n",
    "    if c<d:\n",
    "        print(\"a<b and c<d\")"
   ]
  },
  {
   "cell_type": "code",
   "execution_count": 98,
   "id": "266b31e4-031c-4f30-97b1-87ccf75d4403",
   "metadata": {},
   "outputs": [
    {
     "name": "stdout",
     "output_type": "stream",
     "text": [
      "a<b and c<d\n"
     ]
    }
   ],
   "source": [
    "a=1\n",
    "b=2\n",
    "c=3\n",
    "d=4\n",
    "if a<b and c<d:\n",
    "        print(\"a<b and c<d\")"
   ]
  },
  {
   "cell_type": "code",
   "execution_count": 99,
   "id": "210a041e-d018-4bfb-8212-c6b75c9e4235",
   "metadata": {},
   "outputs": [
    {
     "name": "stdout",
     "output_type": "stream",
     "text": [
      "0b110\n",
      "0b100\n"
     ]
    }
   ],
   "source": [
    "#binary value\n",
    "a=6\n",
    "b=4\n",
    "print(bin(a))\n",
    "print(bin(b))"
   ]
  },
  {
   "cell_type": "code",
   "execution_count": 100,
   "id": "b079a30e-7566-4a56-a6b6-b7da64ca05e7",
   "metadata": {},
   "outputs": [
    {
     "name": "stdout",
     "output_type": "stream",
     "text": [
      "0b10000000\n"
     ]
    }
   ],
   "source": [
    "a=128\n",
    "print(bin(a))"
   ]
  },
  {
   "cell_type": "code",
   "execution_count": 102,
   "id": "44b4d03b-cc28-46d3-b390-b6cd9df740ff",
   "metadata": {
    "scrolled": true
   },
   "outputs": [
    {
     "name": "stdout",
     "output_type": "stream",
     "text": [
      "0b100000\n"
     ]
    }
   ],
   "source": [
    "shiftteda=a >> 2\n",
    "print(bin(shiftteda))"
   ]
  },
  {
   "cell_type": "code",
   "execution_count": 104,
   "id": "59fff74c-6b4a-46fc-9bb0-b9642fdd85de",
   "metadata": {},
   "outputs": [
    {
     "data": {
      "text/plain": [
       "32"
      ]
     },
     "execution_count": 104,
     "metadata": {},
     "output_type": "execute_result"
    }
   ],
   "source": [
    "shiftteda"
   ]
  },
  {
   "cell_type": "code",
   "execution_count": 106,
   "id": "60293206-d96e-4ca2-bc85-6201680cbcaa",
   "metadata": {},
   "outputs": [
    {
     "name": "stdout",
     "output_type": "stream",
     "text": [
      "2\n",
      "3\n",
      "4\n",
      "5\n",
      "6\n",
      "7\n",
      "8\n",
      "9\n",
      "10\n"
     ]
    }
   ],
   "source": [
    "a=10\n",
    "b=1\n",
    "while b<a:\n",
    "    b=b+1\n",
    "    print(b)"
   ]
  },
  {
   "cell_type": "code",
   "execution_count": 107,
   "id": "c42a287d-ac57-41d1-adb9-6701cc1ffa35",
   "metadata": {},
   "outputs": [
    {
     "name": "stdout",
     "output_type": "stream",
     "text": [
      "1\n",
      "3\n",
      "5\n",
      "7\n",
      "9\n"
     ]
    }
   ],
   "source": [
    "list2=[1,3,5,7,9]\n",
    "for i in list2:\n",
    "    print(i)"
   ]
  },
  {
   "cell_type": "code",
   "execution_count": 108,
   "id": "9bbdabcd-3f20-42f3-aeb7-1e7e38da8ffe",
   "metadata": {},
   "outputs": [
    {
     "name": "stdout",
     "output_type": "stream",
     "text": [
      "0\n",
      "1\n",
      "2\n",
      "3\n",
      "4\n",
      "5\n",
      "6\n",
      "7\n",
      "8\n",
      "9\n"
     ]
    }
   ],
   "source": [
    "for i in range(0,10):\n",
    "    print(i)"
   ]
  },
  {
   "cell_type": "code",
   "execution_count": 109,
   "id": "e0336ca3-c0d9-4e55-ba0f-4cbe5effbcc0",
   "metadata": {},
   "outputs": [
    {
     "name": "stdout",
     "output_type": "stream",
     "text": [
      "h\n",
      "e\n",
      "l\n",
      "l\n",
      "o\n",
      " \n",
      "p\n",
      "y\n",
      "t\n",
      "o\n",
      "n\n"
     ]
    }
   ],
   "source": [
    "str=\"hello pyton\"\n",
    "for i in range(0,len(str)):\n",
    "    print(str[i])"
   ]
  },
  {
   "cell_type": "code",
   "execution_count": 110,
   "id": "97156a58-cbd7-4900-a6e3-c890568578ae",
   "metadata": {},
   "outputs": [],
   "source": [
    "if a<b:\n",
    "    pass\n",
    "else:\n",
    "    pass"
   ]
  },
  {
   "cell_type": "code",
   "execution_count": null,
   "id": "826aaf22-6774-45c9-94d4-1e973e786da2",
   "metadata": {},
   "outputs": [],
   "source": []
  }
 ],
 "metadata": {
  "kernelspec": {
   "display_name": "Python 3 (ipykernel)",
   "language": "python",
   "name": "python3"
  },
  "language_info": {
   "codemirror_mode": {
    "name": "ipython",
    "version": 3
   },
   "file_extension": ".py",
   "mimetype": "text/x-python",
   "name": "python",
   "nbconvert_exporter": "python",
   "pygments_lexer": "ipython3",
   "version": "3.12.4"
  }
 },
 "nbformat": 4,
 "nbformat_minor": 5
}
