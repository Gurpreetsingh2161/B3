{
 "cells": [
  {
   "cell_type": "code",
   "execution_count": 1,
   "id": "698bd7fe-7a54-40f3-b090-3a39b2e939f1",
   "metadata": {},
   "outputs": [
    {
     "name": "stdout",
     "output_type": "stream",
     "text": [
      "30\n",
      "20\n",
      "10\n"
     ]
    }
   ],
   "source": [
    "x=10 #global variable\n",
    "\n",
    "def outer_function():\n",
    "    x=20 #enclosing function\n",
    "    def inner_function():\n",
    "        x=30 #local variable\n",
    "        print(x) #output 30\n",
    "    inner_function()\n",
    "    print(x) #Output 20\n",
    "\n",
    "outer_function()\n",
    "print(x) #output 10"
   ]
  },
  {
   "cell_type": "code",
   "execution_count": 2,
   "id": "25e67bc6-03de-4a24-8358-324b02869795",
   "metadata": {},
   "outputs": [
    {
     "name": "stdout",
     "output_type": "stream",
     "text": [
      "6000\n",
      "6000\n"
     ]
    }
   ],
   "source": [
    "#write a function to multiply 3 numbers and return its result\n",
    "def multiply_numbers(a,b,c):\n",
    "    res=a*b*c\n",
    "    print(res)\n",
    "multiply_numbers(10,20,30)\n",
    "\n",
    "multi=lambda a,b,c:a*b*c\n",
    "print(multi(10,20,30))"
   ]
  },
  {
   "cell_type": "code",
   "execution_count": null,
   "id": "dbd51110-8474-4b83-81e0-5f505d27f89c",
   "metadata": {},
   "outputs": [],
   "source": []
  },
  {
   "cell_type": "code",
   "execution_count": null,
   "id": "7016ada0-17c7-4620-81a6-fe1e8fc5e7ea",
   "metadata": {},
   "outputs": [],
   "source": []
  }
 ],
 "metadata": {
  "kernelspec": {
   "display_name": "Python 3 (ipykernel)",
   "language": "python",
   "name": "python3"
  },
  "language_info": {
   "codemirror_mode": {
    "name": "ipython",
    "version": 3
   },
   "file_extension": ".py",
   "mimetype": "text/x-python",
   "name": "python",
   "nbconvert_exporter": "python",
   "pygments_lexer": "ipython3",
   "version": "3.12.4"
  }
 },
 "nbformat": 4,
 "nbformat_minor": 5
}
