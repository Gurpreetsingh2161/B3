{
 "cells": [
  {
   "cell_type": "code",
   "execution_count": 1,
   "id": "8e3d8c4c-bc6c-4486-8a74-c85c05b4ac3a",
   "metadata": {},
   "outputs": [
    {
     "name": "stdout",
     "output_type": "stream",
     "text": [
      "List saved to my_list.txt\n",
      "List loaded from my_list.txt\n",
      "Original List: [1, 2, 3, 4, 5]\n",
      "Recovered List: ['1', '2', '3', '4', '5']\n"
     ]
    }
   ],
   "source": [
    "#write a program to save a python list into a file and read that same file amd recover original list.\n",
    "import os\n",
    "\n",
    "def save_list_to_file(my_list, filename):\n",
    "    with open(filename, 'w') as file:\n",
    "        for item in my_list:\n",
    "            file.write(f\"{item}\\n\")\n",
    "    print(f\"List saved to {filename}\")\n",
    "\n",
    "def load_list_from_file(filename):\n",
    "    if os.path.exists(filename):\n",
    "        with open(filename, 'r') as file:\n",
    "            my_list = [line.strip() for line in file]\n",
    "        print(f\"List loaded from {filename}\")\n",
    "        return my_list\n",
    "    else:\n",
    "        print(f\"File {filename} does not exist.\")\n",
    "        return []\n",
    "\n",
    "filename = \"my_list.txt\"\n",
    "my_list=[1,2,3,4,5]\n",
    "\n",
    "save_list_to_file(my_list, filename)\n",
    "recovered_list = load_list_from_file(filename)\n",
    "\n",
    "print(\"Original List:\", my_list)\n",
    "print(\"Recovered List:\", recovered_list)\n"
   ]
  },
  {
   "cell_type": "code",
   "execution_count": null,
   "id": "b2456eda-b312-4669-acec-8a1f46feb0c7",
   "metadata": {},
   "outputs": [],
   "source": []
  }
 ],
 "metadata": {
  "kernelspec": {
   "display_name": "Python 3 (ipykernel)",
   "language": "python",
   "name": "python3"
  },
  "language_info": {
   "codemirror_mode": {
    "name": "ipython",
    "version": 3
   },
   "file_extension": ".py",
   "mimetype": "text/x-python",
   "name": "python",
   "nbconvert_exporter": "python",
   "pygments_lexer": "ipython3",
   "version": "3.12.4"
  }
 },
 "nbformat": 4,
 "nbformat_minor": 5
}
