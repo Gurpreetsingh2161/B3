{
 "cells": [
  {
   "cell_type": "code",
   "execution_count": 5,
   "id": "fb92ef25-d8b1-4702-9dab-622bbf87fb7d",
   "metadata": {},
   "outputs": [],
   "source": [
    "import os\n",
    "address=r\"C:\\Users\\gops2\\Downloads\\Organizer\\Organizer\"\n",
    "os.chdir(address)\n",
    "\n",
    "list_of_files=os.listdir()\n",
    "\n",
    "list_of_files\n",
    "\n",
    "dirs_to_create=\"Videos,Audio,Images,Docs,Mics\".split(\",\")\n",
    "dirs_to_create\n",
    "\n",
    "for dir1 in dirs_to_create:\n",
    "    os.mkdir(dir1)"
   ]
  },
  {
   "cell_type": "code",
   "execution_count": 7,
   "id": "efba8b8e-f86c-4b57-b631-ab2e1b26df23",
   "metadata": {},
   "outputs": [],
   "source": [
    "for f in list_of_files:\n",
    "    ext=f.split(\".\")[-1]\n",
    "    if ext == \"jpg\" or ext ==\"png\":\n",
    "        cmd=f\"move ./{f} ./Images/{f}\"\n",
    "        os.system(cmd)\n",
    "#try except"
   ]
  },
  {
   "cell_type": "code",
   "execution_count": null,
   "id": "6d866dec-fdab-42df-96ba-2c93c7bc472a",
   "metadata": {},
   "outputs": [],
   "source": []
  }
 ],
 "metadata": {
  "kernelspec": {
   "display_name": "Python 3 (ipykernel)",
   "language": "python",
   "name": "python3"
  },
  "language_info": {
   "codemirror_mode": {
    "name": "ipython",
    "version": 3
   },
   "file_extension": ".py",
   "mimetype": "text/x-python",
   "name": "python",
   "nbconvert_exporter": "python",
   "pygments_lexer": "ipython3",
   "version": "3.12.4"
  }
 },
 "nbformat": 4,
 "nbformat_minor": 5
}
