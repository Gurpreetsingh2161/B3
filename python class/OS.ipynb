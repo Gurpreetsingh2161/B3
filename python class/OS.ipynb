{
 "cells": [
  {
   "cell_type": "code",
   "execution_count": 4,
   "id": "f8765157-1cba-4e5e-b581-304e596ffcb2",
   "metadata": {},
   "outputs": [
    {
     "name": "stdin",
     "output_type": "stream",
     "text": [
      "Enter location C:\\Users\\gops2\\Downloads\\Python class\\B3\\B3\n"
     ]
    }
   ],
   "source": [
    "#write a prpgram that takes directory address from user and returns the list of file names in the directory we can use OS module to perform these actions\n",
    "import os\n",
    "#help(os)\n",
    "\n",
    "address= input(\"Enter location\")\n",
    "#address=\"C:\\Users\\gops2\\Downloads\\Python class\\B3\\B3\"  #for windows users\n"
   ]
  },
  {
   "cell_type": "code",
   "execution_count": 5,
   "id": "df6afa79-d57c-4bb1-993c-ce78f4e77e52",
   "metadata": {},
   "outputs": [
    {
     "data": {
      "text/plain": [
       "['.git',\n",
       " '.ipynb_checkpoints',\n",
       " '.README.md.swp',\n",
       " 'Assignment',\n",
       " 'Firrst NB.ipynb',\n",
       " 'name.py',\n",
       " 'python class',\n",
       " 'python_questions.ipynb',\n",
       " 'README.md']"
      ]
     },
     "execution_count": 5,
     "metadata": {},
     "output_type": "execute_result"
    }
   ],
   "source": [
    "os.chdir(address) #change working directory\n",
    " \n",
    "list_of_files=os.listdir() #list of files in dir\n",
    "list_of_files"
   ]
  },
  {
   "cell_type": "code",
   "execution_count": null,
   "id": "be55ee27-73d4-42db-b740-c9f6ffb151cc",
   "metadata": {},
   "outputs": [],
   "source": []
  }
 ],
 "metadata": {
  "kernelspec": {
   "display_name": "Python 3 (ipykernel)",
   "language": "python",
   "name": "python3"
  },
  "language_info": {
   "codemirror_mode": {
    "name": "ipython",
    "version": 3
   },
   "file_extension": ".py",
   "mimetype": "text/x-python",
   "name": "python",
   "nbconvert_exporter": "python",
   "pygments_lexer": "ipython3",
   "version": "3.12.4"
  }
 },
 "nbformat": 4,
 "nbformat_minor": 5
}
