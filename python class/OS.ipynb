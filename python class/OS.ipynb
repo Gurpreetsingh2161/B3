{
 "cells": [
  {
   "cell_type": "code",
   "execution_count": 4,
   "id": "f8765157-1cba-4e5e-b581-304e596ffcb2",
   "metadata": {},
   "outputs": [
    {
     "name": "stdin",
     "output_type": "stream",
     "text": [
      "Enter location C:\\Users\\gops2\\Downloads\\Python class\\B3\\B3\n"
     ]
    }
   ],
   "source": [
    "#write a prpgram that takes directory address from user and returns the list of file names in the directory we can use OS module to perform these actions\n",
    "import os\n",
    "#help(os)\n",
    "\n",
    "address= input(\"Enter location\")\n",
    "#address=\"C:\\Users\\gops2\\Downloads\\Python class\\B3\\B3\"  #for windows users\n"
   ]
  },
  {
   "cell_type": "code",
   "execution_count": 5,
   "id": "df6afa79-d57c-4bb1-993c-ce78f4e77e52",
   "metadata": {},
   "outputs": [
    {
     "data": {
      "text/plain": [
       "['.git',\n",
       " '.ipynb_checkpoints',\n",
       " '.README.md.swp',\n",
       " 'Assignment',\n",
       " 'Firrst NB.ipynb',\n",
       " 'name.py',\n",
       " 'python class',\n",
       " 'python_questions.ipynb',\n",
       " 'README.md']"
      ]
     },
     "execution_count": 5,
     "metadata": {},
     "output_type": "execute_result"
    }
   ],
   "source": [
    "os.chdir(address) #change working directory\n",
    " \n",
    "list_of_files=os.listdir() #list of files in dir\n",
    "list_of_files"
   ]
  },
  {
   "cell_type": "markdown",
   "id": "1ab51b51-74d6-4c4f-a3a7-9ab9dda3a38d",
   "metadata": {},
   "source": [
    "## write a function that takes dir address from user and organize files on that folder in to following categories as given below\n",
    "\n",
    "\n",
    "|Folder| Extension|\n",
    "|--|--|\n",
    "|Videos| mpg,mkv|\n",
    "|Images| jpg,png|\n",
    "|Audio| mp3,oog|\n",
    "|Docs |docx,txt,pdf|\n",
    "|Mics |others|"
   ]
  },
  {
   "cell_type": "code",
   "execution_count": 4,
   "id": "138b74da-47d1-40ec-815c-9ec301d5eec0",
   "metadata": {},
   "outputs": [],
   "source": [
    "import os\n",
    "\n",
    "#os.mkdir(\"Videos\")\n",
    "#os.mkdir(\"Images\")\n",
    "#os.mkdir(\"Audio\")\n",
    "#os.mkdir(\"Docs\")\n",
    "#os.mkdir(\"Mics\")\n",
    "#os.system(\"md temp\")\n",
    "#os.system(\"move .\\demo.txt .\\Images\\demo.txt\")"
   ]
  },
  {
   "cell_type": "code",
   "execution_count": null,
   "id": "08dee462-51ed-4b36-8df1-0513bb30457b",
   "metadata": {},
   "outputs": [],
   "source": [
    "import os\n",
    "# to create directory\n",
    "dirName=\"Images\"\n",
    "make_dir_cmd=f\"md (dirName)\"\n",
    "os.system(mke_dir_cmd)\n",
    "\n",
    "os.mkdir(\"dirName\")\n",
    "\n",
    "# to move file\n",
    "\n",
    "relative_source_file_path=\".\\demo.txt\"\n",
    "dirName=\"Images\""
   ]
  }
 ],
 "metadata": {
  "kernelspec": {
   "display_name": "Python 3 (ipykernel)",
   "language": "python",
   "name": "python3"
  },
  "language_info": {
   "codemirror_mode": {
    "name": "ipython",
    "version": 3
   },
   "file_extension": ".py",
   "mimetype": "text/x-python",
   "name": "python",
   "nbconvert_exporter": "python",
   "pygments_lexer": "ipython3",
   "version": "3.12.4"
  }
 },
 "nbformat": 4,
 "nbformat_minor": 5
}
