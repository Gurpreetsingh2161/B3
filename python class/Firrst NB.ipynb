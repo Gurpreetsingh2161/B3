{
 "cells": [
  {
   "cell_type": "code",
   "execution_count": 3,
   "id": "24263088-3193-4955-bdd8-d5076a835e58",
   "metadata": {},
   "outputs": [],
   "source": [
    "a=1\n",
    "b=1.1\n",
    "c=a+b"
   ]
  },
  {
   "cell_type": "code",
   "execution_count": 7,
   "id": "0a204913-2cd5-4941-b5d8-bb9b4afe0a6c",
   "metadata": {},
   "outputs": [],
   "source": [
    "a+=1"
   ]
  },
  {
   "cell_type": "code",
   "execution_count": 9,
   "id": "592c9031-48c1-44f7-af22-5b105fcc49b9",
   "metadata": {},
   "outputs": [
    {
     "name": "stdout",
     "output_type": "stream",
     "text": [
      "2.1\n",
      "1.1\n",
      "3\n"
     ]
    }
   ],
   "source": [
    "print(c)\n",
    "print(b)\n",
    "print(a)"
   ]
  },
  {
   "cell_type": "code",
   "execution_count": null,
   "id": "67edad14-67ea-48d5-894e-0beeca4fc9ae",
   "metadata": {},
   "outputs": [],
   "source": []
  }
 ],
 "metadata": {
  "kernelspec": {
   "display_name": "Python 3 (ipykernel)",
   "language": "python",
   "name": "python3"
  },
  "language_info": {
   "codemirror_mode": {
    "name": "ipython",
    "version": 3
   },
   "file_extension": ".py",
   "mimetype": "text/x-python",
   "name": "python",
   "nbconvert_exporter": "python",
   "pygments_lexer": "ipython3",
   "version": "3.12.4"
  }
 },
 "nbformat": 4,
 "nbformat_minor": 5
}
