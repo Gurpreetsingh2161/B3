{
 "cells": [
  {
   "cell_type": "markdown",
   "id": "b59a84ca-612b-4f41-bd5b-90d04de6aff3",
   "metadata": {},
   "source": [
    "# 1. Basic Function Implementation\n",
    "Write a function greet that takes two arguments:name(a string) and greeting (a string with a default value of \"Hello\"). The function should return a greeting message."
   ]
  },
  {
   "cell_type": "code",
   "execution_count": 17,
   "id": "ce8410fc-ea9b-425d-a7bf-62d8ffc2b825",
   "metadata": {},
   "outputs": [
    {
     "name": "stdout",
     "output_type": "stream",
     "text": [
      "Hello Gurpreet\n",
      "Good Morning! Gurpreet\n"
     ]
    }
   ],
   "source": [
    "def greet(*,name, greeting=\"Good Morning!\"): #defining function greet\n",
    "    message = greeting +\" \"+ name #concatinating greeting and name into variable message\n",
    "    print(message) #printing message\n",
    "    \n",
    "greet(name=\"Gurpreet\",greeting=\"Hello\") #function calling with greeting\n",
    "greet(name=\"Gurpreet\")# function calling without greeting"
   ]
  },
  {
   "cell_type": "markdown",
   "id": "e528187d-a7b4-4788-9fdc-a396992fda45",
   "metadata": {},
   "source": [
    "# 2 Named Arguments\n",
    "Create a function create_profile that takes arguments for name, age and city as named arguments. The function should return a string like \"Name: Alice, Age:25, City: New York\". Ensure that the age argument has a default value of 18."
   ]
  },
  {
   "cell_type": "code",
   "execution_count": 15,
   "id": "06ead3f8-3e92-4d0b-b569-e0d7c0298e87",
   "metadata": {},
   "outputs": [
    {
     "name": "stdout",
     "output_type": "stream",
     "text": [
      "Name:Gurpreet,Age:23,City:Dehradun\n",
      "Name:Dev,Age:18,City:Dehradun\n"
     ]
    }
   ],
   "source": [
    "def create_profile(*,name,age=18,city): # function creation\n",
    "    print(f\"Name:{name},Age:{age},City:{city}\") #Printing the result with f string\n",
    "\n",
    "create_profile(name=\"Gurpreet\",age=23,city=\"Dehradun\") #function calling with age\n",
    "create_profile(name=\"Dev\",city=\"Dehradun\") #function calling without age"
   ]
  },
  {
   "cell_type": "markdown",
   "id": "5a7306fc-f70b-4e51-be51-e9c0a18ecf5d",
   "metadata": {},
   "source": [
    "# 3 Using *args and kwargs\n",
    "Write a function sum_numbers that takes any number of positional arguments (args) and keyword arguments (*kwargs). It should:\n",
    "• Return the sum of all *args if they are numbers.\n",
    "• Return a dictionary of all keyword arguments."
   ]
  },
  {
   "cell_type": "code",
   "execution_count": 19,
   "id": "f06a6c47-894c-412c-bee9-afbcdbf0b7ed",
   "metadata": {},
   "outputs": [
    {
     "name": "stdout",
     "output_type": "stream",
     "text": [
      "60 {'name': 'Gurpreet', 'age': 23}\n"
     ]
    }
   ],
   "source": [
    "def sum_numbers(*args, **kwargs):\n",
    "    total = sum(arg for arg in args if isinstance(arg, (int, float)))  #Summing only numeric values from args\n",
    "    print(total, kwargs)  #printing the sum and the kwargs as a dictionary\n",
    "\n",
    "sum_numbers(10, 20, 'a', 30, name=\"Gurpreet\", age=23) #calling the function"
   ]
  },
  {
   "cell_type": "markdown",
   "id": "135daf67-927e-4c95-bf12-3dcfced60ea2",
   "metadata": {},
   "source": [
    "# 4 Lambdas and Map\n",
    "Write a function the uses map and lambda to return a list where each element is squared."
   ]
  },
  {
   "cell_type": "code",
   "execution_count": 21,
   "id": "591c4022-6ebf-41cd-b934-1c2df995f029",
   "metadata": {},
   "outputs": [
    {
     "name": "stdout",
     "output_type": "stream",
     "text": [
      "[1, 4, 9, 16]\n"
     ]
    }
   ],
   "source": [
    "def square_elements(numbers):\n",
    "    print(list(map(lambda x: x**2, numbers))) #map applies the lambda function (x**2) to each element in the list, and the result is converted back to a list.\n",
    "\n",
    "square_elements([1, 2, 3, 4]) #calling function by entering list of numbers"
   ]
  },
  {
   "cell_type": "markdown",
   "id": "2fcebcb4-b32b-4d79-905d-ed15e8032692",
   "metadata": {},
   "source": [
    "# 5 Filter and Lambdas\n",
    "Write a function that filters out all odd numbers from a list using filter and a lambda function."
   ]
  },
  {
   "cell_type": "code",
   "execution_count": 23,
   "id": "addd0347-39d1-4cc4-942c-91ac0af30440",
   "metadata": {},
   "outputs": [
    {
     "name": "stdout",
     "output_type": "stream",
     "text": [
      "[2, 4, 6]\n"
     ]
    }
   ],
   "source": [
    "def filter_odd_numbers(numbers):\n",
    "    print(list(filter(lambda x: x % 2 == 0, numbers))) #filter is used with a lambda function that checks if a number is even (x % 2 == 0), and the result is converted back to a list.\n",
    "    \n",
    "filter_odd_numbers([1, 2, 3, 4, 5, 6, 7])  #calling function by entering list of numbers"
   ]
  },
  {
   "cell_type": "markdown",
   "id": "f3cb592e-41c0-424d-8ee6-4118c6b4036d",
   "metadata": {},
   "source": [
    "# 6 Basic List Comprehension\n",
    "Create a list comprehension that takes a list of numbers and returns a list of their squares."
   ]
  },
  {
   "cell_type": "code",
   "execution_count": 24,
   "id": "83a1579a-54bb-4a7c-93e7-62677e9f2eae",
   "metadata": {},
   "outputs": [
    {
     "name": "stdout",
     "output_type": "stream",
     "text": [
      "[1, 4, 9, 16, 25]\n"
     ]
    }
   ],
   "source": [
    "numbers = [1, 2, 3, 4, 5] #creating a list of numbers\n",
    "squares = [x**2 for x in numbers] #iterates through each number in the numbers list and returns the square of each element.\n",
    "\n",
    "print(squares) #printing the new list"
   ]
  },
  {
   "cell_type": "markdown",
   "id": "a4769b5f-9864-4788-b7a3-94f9ab2b315f",
   "metadata": {},
   "source": [
    "# 7 List Comprehension with Condition\n",
    "Use a list comprehension to create a list of even numbers from 1 to 20."
   ]
  },
  {
   "cell_type": "code",
   "execution_count": 25,
   "id": "4edff7fa-b6c6-4703-8b13-e0c4f82dc618",
   "metadata": {},
   "outputs": [
    {
     "name": "stdout",
     "output_type": "stream",
     "text": [
      "[2, 4, 6, 8, 10, 12, 14, 16, 18, 20]\n"
     ]
    }
   ],
   "source": [
    "even_numbers = [x for x in range(1, 21) if x % 2 == 0] #filters out only the even numbers with condition (x % 2 == 0)\n",
    "\n",
    "print(even_numbers) #printing new even list"
   ]
  },
  {
   "cell_type": "markdown",
   "id": "faafccf1-50e0-4dec-b0bd-be336ae3de27",
   "metadata": {},
   "source": [
    "# 8 Using os and time Modules\n",
    "Write a function file_operations that creates a directory named \"test_folder\" using os.mkdirs() .Then , pause the execution for 3 seconds using time.sleep() ,and finally, delete the directory using os.rmdir(). "
   ]
  },
  {
   "cell_type": "code",
   "execution_count": 27,
   "id": "bd4d849a-11aa-4dc2-8c97-66b3a6991b99",
   "metadata": {},
   "outputs": [
    {
     "name": "stdout",
     "output_type": "stream",
     "text": [
      "Directory 'test_folder' created.\n",
      "Directory 'test_folder' deleted.\n"
     ]
    }
   ],
   "source": [
    "import os\n",
    "import time\n",
    "\n",
    "def file_operations():\n",
    "    os.makedirs(\"test_folder\", exist_ok=True)  #Creating a directory\n",
    "    print(\"Directory 'test_folder' created.\")\n",
    "    \n",
    "    time.sleep(3)  #Pause execution for 3 seconds\n",
    "    \n",
    "    os.rmdir(\"test_folder\") #Remove the directory\n",
    "    print(\"Directory 'test_folder' deleted.\")\n",
    "\n",
    "file_operations() #calling the function"
   ]
  },
  {
   "cell_type": "markdown",
   "id": "6bb94ed6-e3c8-4f82-97ae-d592ee83c81b",
   "metadata": {},
   "source": [
    "# 9 Importing Specific Functions\n",
    "Write a Python script that imports only sleep from the time module and renames it to pause. Use it to pause execution for 2 seconds and print \"Paused execution...\"."
   ]
  },
  {
   "cell_type": "code",
   "execution_count": 28,
   "id": "10e74ee1-3cf6-4b05-99dd-880909fdcf5a",
   "metadata": {},
   "outputs": [
    {
     "name": "stdout",
     "output_type": "stream",
     "text": [
      "Execution started.\n",
      "Paused execution...\n"
     ]
    }
   ],
   "source": [
    "from time import sleep as pause\n",
    "\n",
    "print(\"Execution started.\")\n",
    "\n",
    "pause(2) #Pausing execution for 2 seconds\n",
    "\n",
    "print(\"Paused execution...\") #Printing the message after the pause"
   ]
  },
  {
   "cell_type": "markdown",
   "id": "9e3b9e2d-bd75-48a8-9ca3-f56e6cc66c72",
   "metadata": {},
   "source": [
    "# 10 **Recursive Function with *args and kwargs (Flattening a list)\n",
    "Write a function flatten_list that can flatten a nested list of any depth using *args and **kwargs."
   ]
  },
  {
   "cell_type": "code",
   "execution_count": 33,
   "id": "7e7a9f75-c35a-4136-89c7-2d12cf32604d",
   "metadata": {},
   "outputs": [
    {
     "name": "stdout",
     "output_type": "stream",
     "text": [
      "[1, 2, 3, 4, 5, 6, 7, 8, 9]\n"
     ]
    }
   ],
   "source": [
    "def flatten_list(nested_list, *args, **kwargs):\n",
    "    flat_list = []\n",
    "    for item in nested_list:\n",
    "        if isinstance(item, list):\n",
    "            flat_list.extend(flatten_list(item, *args, **kwargs)) #Recursively flatten the nested list\n",
    "        else:\n",
    "            flat_list.append(item) #Add non-list items directly\n",
    "    return flat_list\n",
    "    \n",
    "nested = [1, [2, [3, 4], 5], 6, [7, [8, [9]]]]\n",
    "flattened = flatten_list(nested) #calling function and saving result into flattened\n",
    "print(flattened)"
   ]
  },
  {
   "cell_type": "code",
   "execution_count": null,
   "id": "e26bfc6d-9f9a-432c-bae5-1eb2039130b6",
   "metadata": {},
   "outputs": [],
   "source": []
  }
 ],
 "metadata": {
  "kernelspec": {
   "display_name": "Python 3 (ipykernel)",
   "language": "python",
   "name": "python3"
  },
  "language_info": {
   "codemirror_mode": {
    "name": "ipython",
    "version": 3
   },
   "file_extension": ".py",
   "mimetype": "text/x-python",
   "name": "python",
   "nbconvert_exporter": "python",
   "pygments_lexer": "ipython3",
   "version": "3.12.4"
  }
 },
 "nbformat": 4,
 "nbformat_minor": 5
}
